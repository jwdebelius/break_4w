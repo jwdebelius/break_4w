{
 "cells": [
  {
   "cell_type": "code",
   "execution_count": 1,
   "metadata": {
    "collapsed": true
   },
   "outputs": [],
   "source": [
    "from collections import OrderedDict\n",
    "import datetime\n",
    "\n",
    "import numpy as np\n",
    "import pandas as pd\n",
    "\n",
    "from IPython.display import HTML\n",
    "\n",
    "import statsmodels.api as sm\n",
    "\n",
    "from break4w.categorical import Categorical\n",
    "from break4w.continous import Continous\n",
    "from break4w.question import Question\n",
    "from break4w.bool import Bool"
   ]
  },
  {
   "cell_type": "markdown",
   "metadata": {},
   "source": [
    "I'm going to try to make a data dictionary object using columns from an example data dictionary and study I worked with a while ago. I'm going to start this by assuming we can convert a text documnt to a series of dictionaries to build off of. I'm going to use the data description from the [Statsmodels National Election DataSet](http://www.statsmodels.org/0.6.1/datasets/generated/anes96.html)."
   ]
  },
  {
   "cell_type": "code",
   "execution_count": 2,
   "metadata": {
    "collapsed": true
   },
   "outputs": [],
   "source": [
    "data_ = pd.DataFrame(sm.datasets.anes96.load().data)"
   ]
  },
  {
   "cell_type": "code",
   "execution_count": 3,
   "metadata": {
    "collapsed": true
   },
   "outputs": [],
   "source": [
    "columns = [\n",
    "    {\n",
    "        'name': 'popul',\n",
    "        'description': 'Census place population in 1000s',\n",
    "        'dtype': float,\n",
    "        'units': 'people',\n",
    "    },\n",
    "    {\n",
    "        'name': 'TVnews',\n",
    "        'description': 'Number of times per week that respondent watches TV news.',\n",
    "        'dtype': int,\n",
    "        'units': 'views per week',\n",
    "        'limits': [0, None]\n",
    "    },\n",
    "    {\n",
    "        'name': 'PID',\n",
    "        'description': 'Party identification of respondent',\n",
    "        'dtype': int,\n",
    "        'order': [0, 1, 2, 3, 4, 5, 6],\n",
    "        'numeric_mapping': {0: 'Strong Democrat',\n",
    "                            1: 'Weak Democrat', \n",
    "                            2: 'Independent-Democrat', \n",
    "                            3: 'Independent-Indpendent', \n",
    "                            4: 'Independent-Republican', \n",
    "                            5: 'Weak Republican', \n",
    "                            6: 'Strong Republican'}\n",
    "    },\n",
    "    {\n",
    "        'name': 'vote',\n",
    "        'description': 'Individual expected to vote for Bob Dole',\n",
    "        'dtype': bool,\n",
    "    },\n",
    "    ]\n",
    "types = ['continous', 'question', 'categorical']"
   ]
  },
  {
   "cell_type": "code",
   "execution_count": 4,
   "metadata": {
    "collapsed": true
   },
   "outputs": [],
   "source": [
    "type_lookup = {'continous': Continous,\n",
    "               'categorical': Categorical,\n",
    "               'multiple choice': Categorical,\n",
    "               'ordinal': Categorical,\n",
    "               'bool': Bool,\n",
    "               'boolean': Bool,\n",
    "               'yes/no': Bool,\n",
    "               }"
   ]
  },
  {
   "cell_type": "code",
   "execution_count": 5,
   "metadata": {
    "collapsed": true
   },
   "outputs": [],
   "source": [
    "proto_dict = OrderedDict()\n",
    "for col_, type_ in zip(*(columns, types)):\n",
    "    question_type = type_lookup.get(type_.lower(), Question)\n",
    "    proto_dict[col_['name']] = question_type(**col_)\n",
    "#         proto_dict[col_['name']] = Continous(**col_)\n",
    "#     elif type_ == 'categorical':\n",
    "#         proto_dict[col_['name']] = Categorical(**col_)\n",
    "#     else:\n",
    "#         proto_dict[col_['name']] = Question(**col_)"
   ]
  },
  {
   "cell_type": "code",
   "execution_count": 6,
   "metadata": {},
   "outputs": [
    {
     "data": {
      "text/plain": [
       "OrderedDict([('popul', <break4w.continous.Continous at 0x11a5e9ef0>),\n",
       "             ('TVnews', <break4w.question.Question at 0x11a5e9f60>),\n",
       "             ('PID', <break4w.categorical.Categorical at 0x11a5e9fd0>)])"
      ]
     },
     "execution_count": 6,
     "metadata": {},
     "output_type": "execute_result"
    }
   ],
   "source": [
    "proto_dict"
   ]
  },
  {
   "cell_type": "code",
   "execution_count": 7,
   "metadata": {
    "collapsed": true
   },
   "outputs": [],
   "source": [
    "type_lookup = {'continous': Continous,\n",
    "               'categorical': Categorical,\n",
    "               'multiple choice': Categorical,\n",
    "               'ordinal': Categorical,\n",
    "               'bool': Bool,\n",
    "               'boolean': Bool,\n",
    "               'yes/no': Bool,\n",
    "               }"
   ]
  },
  {
   "cell_type": "code",
   "execution_count": 8,
   "metadata": {},
   "outputs": [
    {
     "data": {
      "text/plain": [
       "OrderedDict([('popul', <break4w.continous.Continous at 0x11a5e9ef0>),\n",
       "             ('TVnews', <break4w.question.Question at 0x11a5e9f60>),\n",
       "             ('PID', <break4w.categorical.Categorical at 0x11a5e9fd0>)])"
      ]
     },
     "execution_count": 8,
     "metadata": {},
     "output_type": "execute_result"
    }
   ],
   "source": [
    "proto_dict"
   ]
  },
  {
   "cell_type": "code",
   "execution_count": 9,
   "metadata": {
    "collapsed": true
   },
   "outputs": [],
   "source": [
    "class DataDictionary:\n",
    "    def __init__(self, columns, types):\n",
    "        \"\"\"Initializes the dictionary object\n",
    "        \"\"\"\n",
    "        self.log = []\n",
    "        self.columns = OrderedDict()\n",
    "        for col_, type_ in zip(*(columns, types)):\n",
    "            self.add_question(col_, type_, record=False,)\n",
    "        self.columns = proto_dict\n",
    "\n",
    "        self._update_log('initialize the dictionary')\n",
    "    def _update_log(self, command, column=None,\n",
    "                    transform_type=None, transformation=None):\n",
    "        \"\"\"Used for internal tracking of the columns and data\n",
    "        \"\"\"\n",
    "        self.log.append({\n",
    "            'timestamp': datetime.datetime.now(),\n",
    "            'column': column,\n",
    "            'command': command,\n",
    "            'transform_type': transform_type,\n",
    "            'transformation': transformation,\n",
    "            })\n",
    "\n",
    "    def add_question(self, question_data, question_type=None, check=True,\n",
    "                     record=True):\n",
    "        \"\"\"\n",
    "        Adds a new question object to the data dictionary\n",
    "        \"\"\"\n",
    "        error = False\n",
    "\n",
    "        # Converts the dict data to a Question object\n",
    "        if isinstance(question_data, dict):\n",
    "            question_object = type_lookup.get(question_type.lower(), Question)\n",
    "            question_data = question_object(**question_data)\n",
    "        name = question_data.name\n",
    "        \n",
    "        # Checks if the question is in the dictionary\n",
    "        if (name in self.columns.keys()) and check:\n",
    "            error = True\n",
    "            message = '%s already has a dictionary entry.' % name\n",
    "            transform_type = 'error'\n",
    "        else:\n",
    "            message = '%s was added to the dictionary' % name\n",
    "            transform_type = None\n",
    "\n",
    "        # Updates thd log\n",
    "        if record:\n",
    "            self._update_log('add column', column=name, transformation=message,\n",
    "                             transform_type=transform_type)\n",
    "    \n",
    "        # Raises an error or updates the dictionary, as appropriate\n",
    "        if error:\n",
    "            raise ValueError(message)\n",
    "        else:\n",
    "            self.columns[name] = question_data"
   ]
  },
  {
   "cell_type": "code",
   "execution_count": 10,
   "metadata": {
    "collapsed": true
   },
   "outputs": [],
   "source": [
    "test = DataDictionary([], [])"
   ]
  },
  {
   "cell_type": "code",
   "execution_count": 11,
   "metadata": {},
   "outputs": [
    {
     "ename": "ValueError",
     "evalue": "popul already has a dictionary entry.",
     "output_type": "error",
     "traceback": [
      "\u001b[0;31m---------------------------------------------------------------------------\u001b[0m",
      "\u001b[0;31mValueError\u001b[0m                                Traceback (most recent call last)",
      "\u001b[0;32m<ipython-input-11-52f708f88e9b>\u001b[0m in \u001b[0;36m<module>\u001b[0;34m()\u001b[0m\n\u001b[0;32m----> 1\u001b[0;31m \u001b[0mtest\u001b[0m\u001b[0;34m.\u001b[0m\u001b[0madd_question\u001b[0m\u001b[0;34m(\u001b[0m\u001b[0mcolumns\u001b[0m\u001b[0;34m[\u001b[0m\u001b[0;36m0\u001b[0m\u001b[0;34m]\u001b[0m\u001b[0;34m,\u001b[0m \u001b[0mtypes\u001b[0m\u001b[0;34m[\u001b[0m\u001b[0;36m0\u001b[0m\u001b[0;34m]\u001b[0m\u001b[0;34m)\u001b[0m\u001b[0;34m\u001b[0m\u001b[0m\n\u001b[0m\u001b[1;32m      2\u001b[0m \u001b[0mtest\u001b[0m\u001b[0;34m.\u001b[0m\u001b[0madd_question\u001b[0m\u001b[0;34m(\u001b[0m\u001b[0mContinous\u001b[0m\u001b[0;34m(\u001b[0m\u001b[0;34m**\u001b[0m\u001b[0mcolumns\u001b[0m\u001b[0;34m[\u001b[0m\u001b[0;36m1\u001b[0m\u001b[0;34m]\u001b[0m\u001b[0;34m)\u001b[0m\u001b[0;34m)\u001b[0m\u001b[0;34m\u001b[0m\u001b[0m\n\u001b[1;32m      3\u001b[0m \u001b[0mtest\u001b[0m\u001b[0;34m.\u001b[0m\u001b[0madd_question\u001b[0m\u001b[0;34m(\u001b[0m\u001b[0mcolumns\u001b[0m\u001b[0;34m[\u001b[0m\u001b[0;36m1\u001b[0m\u001b[0;34m]\u001b[0m\u001b[0;34m,\u001b[0m \u001b[0mtypes\u001b[0m\u001b[0;34m[\u001b[0m\u001b[0;36m1\u001b[0m\u001b[0;34m]\u001b[0m\u001b[0;34m)\u001b[0m\u001b[0;34m\u001b[0m\u001b[0m\n",
      "\u001b[0;32m<ipython-input-9-11b3bc3b1de8>\u001b[0m in \u001b[0;36madd_question\u001b[0;34m(self, question_data, question_type, check, record)\u001b[0m\n\u001b[1;32m     51\u001b[0m         \u001b[0;31m# Raises an error or updates the dictionary, as appropriate\u001b[0m\u001b[0;34m\u001b[0m\u001b[0;34m\u001b[0m\u001b[0m\n\u001b[1;32m     52\u001b[0m         \u001b[0;32mif\u001b[0m \u001b[0merror\u001b[0m\u001b[0;34m:\u001b[0m\u001b[0;34m\u001b[0m\u001b[0m\n\u001b[0;32m---> 53\u001b[0;31m             \u001b[0;32mraise\u001b[0m \u001b[0mValueError\u001b[0m\u001b[0;34m(\u001b[0m\u001b[0mmessage\u001b[0m\u001b[0;34m)\u001b[0m\u001b[0;34m\u001b[0m\u001b[0m\n\u001b[0m\u001b[1;32m     54\u001b[0m         \u001b[0;32melse\u001b[0m\u001b[0;34m:\u001b[0m\u001b[0;34m\u001b[0m\u001b[0m\n\u001b[1;32m     55\u001b[0m             \u001b[0mself\u001b[0m\u001b[0;34m.\u001b[0m\u001b[0mcolumns\u001b[0m\u001b[0;34m[\u001b[0m\u001b[0mname\u001b[0m\u001b[0;34m]\u001b[0m \u001b[0;34m=\u001b[0m \u001b[0mquestion_data\u001b[0m\u001b[0;34m\u001b[0m\u001b[0m\n",
      "\u001b[0;31mValueError\u001b[0m: popul already has a dictionary entry."
     ]
    }
   ],
   "source": [
    "test.add_question(columns[0], types[0])\n",
    "test.add_question(Continous(**columns[1]))\n",
    "test.add_question(columns[1], types[1])"
   ]
  },
  {
   "cell_type": "code",
   "execution_count": 22,
   "metadata": {},
   "outputs": [
    {
     "data": {
      "text/plain": [
       "['popul', 'TVnews', 'PID']"
      ]
     },
     "execution_count": 22,
     "metadata": {},
     "output_type": "execute_result"
    }
   ],
   "source": [
    "list(test.columns.keys())"
   ]
  },
  {
   "cell_type": "code",
   "execution_count": 25,
   "metadata": {
    "collapsed": true
   },
   "outputs": [],
   "source": [
    "columns = test.columns"
   ]
  },
  {
   "cell_type": "code",
   "execution_count": 26,
   "metadata": {},
   "outputs": [
    {
     "data": {
      "text/plain": [
       "OrderedDict([('popul', <break4w.continous.Continous at 0x113e6d630>),\n",
       "             ('TVnews', <break4w.question.Question at 0x113e6d6a0>),\n",
       "             ('PID', <break4w.categorical.Categorical at 0x113e6d710>)])"
      ]
     },
     "execution_count": 26,
     "metadata": {},
     "output_type": "execute_result"
    }
   ],
   "source": [
    "columns"
   ]
  },
  {
   "cell_type": "code",
   "execution_count": 30,
   "metadata": {},
   "outputs": [
    {
     "ename": "KeyError",
     "evalue": "'popul'",
     "output_type": "error",
     "traceback": [
      "\u001b[0;31m---------------------------------------------------------------------------\u001b[0m",
      "\u001b[0;31mKeyError\u001b[0m                                  Traceback (most recent call last)",
      "\u001b[0;32m<ipython-input-30-ff4217a44c8d>\u001b[0m in \u001b[0;36m<module>\u001b[0;34m()\u001b[0m\n\u001b[0;32m----> 1\u001b[0;31m \u001b[0;32mdel\u001b[0m \u001b[0mcolumns\u001b[0m\u001b[0;34m[\u001b[0m\u001b[0;34m'popul'\u001b[0m\u001b[0;34m]\u001b[0m\u001b[0;34m\u001b[0m\u001b[0m\n\u001b[0m",
      "\u001b[0;31mKeyError\u001b[0m: 'popul'"
     ]
    }
   ],
   "source": [
    "del columns['popul']"
   ]
  },
  {
   "cell_type": "code",
   "execution_count": 28,
   "metadata": {},
   "outputs": [
    {
     "data": {
      "text/plain": [
       "OrderedDict([('TVnews', <break4w.question.Question at 0x113e6d6a0>),\n",
       "             ('PID', <break4w.categorical.Categorical at 0x113e6d710>)])"
      ]
     },
     "execution_count": 28,
     "metadata": {},
     "output_type": "execute_result"
    }
   ],
   "source": [
    "columns"
   ]
  },
  {
   "cell_type": "code",
   "execution_count": 29,
   "metadata": {},
   "outputs": [
    {
     "data": {
      "text/plain": [
       "OrderedDict([('TVnews', <break4w.question.Question at 0x113e6d6a0>),\n",
       "             ('PID', <break4w.categorical.Categorical at 0x113e6d710>)])"
      ]
     },
     "execution_count": 29,
     "metadata": {},
     "output_type": "execute_result"
    }
   ],
   "source": [
    "test.columns"
   ]
  },
  {
   "cell_type": "code",
   "execution_count": 65,
   "metadata": {
    "collapsed": true
   },
   "outputs": [],
   "source": [
    "class DictTest(OrderedDict):\n",
    "    def __init__(self, columns, types):\n",
    "        for t, q in zip(*(types, columns)):\n",
    "            question_object = type_lookup.get(t.lower(), Question)\n",
    "            question = question_object(**q)\n",
    "            self[question.name] = question\n",
    "        \n",
    "        self.log = []\n",
    "        self._update_log('initialize the dictionary')\n",
    "    \n",
    "    def _update_log(self, command, column=None,\n",
    "        transform_type=None, transformation=None):\n",
    "        \"\"\"Used for internal tracking of the columns and data\n",
    "\n",
    "        Every time a Question acts on data, a record should be made of\n",
    "        the transformation. (See break4w.question.Question._update_log).\n",
    "        However, this also tracks the transformation on the dictionary\n",
    "        level.\n",
    "\n",
    "        Parameters\n",
    "        ----------\n",
    "        command : str\n",
    "            A short textual description of the command performed. This\n",
    "            may be the function name in text format.\n",
    "        column : str, optional\n",
    "            The column in the metadata being explored.\n",
    "        transform_type: str, optional\n",
    "            A more general description of the type of action that was\n",
    "            performed. Ideally, this comes for a preset list of possible\n",
    "            actions, and the descriptions are consistent.\n",
    "        transformation: str, optional\n",
    "            Explains exactly how values were changed.\n",
    "\n",
    "        \"\"\"\n",
    "        self.log.append({\n",
    "            'timestamp': datetime.datetime.now(),\n",
    "            'column': column,\n",
    "            'command': command,\n",
    "            'transform_type': transform_type,\n",
    "            'transformation': transformation,\n",
    "            })\n",
    "    \n",
    "    def add_question(self, question_data, question_type=None, check=True,\n",
    "                     record=True):\n",
    "        \"\"\"...\"\"\"\n",
    "        error = False\n",
    "\n",
    "        # Converts the dict data to a Question object\n",
    "        if isinstance(question_data, dict):\n",
    "            question_object = type_lookup.get(question_type.lower(), Question)\n",
    "            question_data = question_object(**question_data)\n",
    "        name = question_data.name\n",
    "        \n",
    "        # Checks if the question is in the dictionary\n",
    "        if (name in self.keys()) and check:\n",
    "            error = True\n",
    "            message = '%s already has a dictionary entry.' % name\n",
    "            transform_type = 'error'\n",
    "        else:\n",
    "            message = '%s was added to the dictionary' % name\n",
    "            transform_type = None\n",
    "\n",
    "        # Updates thd log\n",
    "        if record:\n",
    "            self._update_log('add column', column=name, transformation=message,\n",
    "                             transform_type=transform_type)\n",
    "    \n",
    "        # Raises an error or updates the dictionary, as appropriate\n",
    "        if error:\n",
    "            raise ValueError(message)\n",
    "        else:\n",
    "            self[name] = question_data"
   ]
  },
  {
   "cell_type": "code",
   "execution_count": 66,
   "metadata": {
    "collapsed": true
   },
   "outputs": [],
   "source": [
    "test = DictTest(columns[:2], types[:2])"
   ]
  },
  {
   "cell_type": "code",
   "execution_count": 67,
   "metadata": {},
   "outputs": [
    {
     "data": {
      "text/plain": [
       "[{'column': None,\n",
       "  'command': 'initialize the dictionary',\n",
       "  'timestamp': datetime.datetime(2017, 6, 8, 16, 12, 30, 447266),\n",
       "  'transform_type': None,\n",
       "  'transformation': None}]"
      ]
     },
     "execution_count": 67,
     "metadata": {},
     "output_type": "execute_result"
    }
   ],
   "source": [
    "test.log"
   ]
  },
  {
   "cell_type": "code",
   "execution_count": 68,
   "metadata": {
    "collapsed": true
   },
   "outputs": [],
   "source": [
    "test.add_question(columns[2], types[2])"
   ]
  },
  {
   "cell_type": "code",
   "execution_count": 72,
   "metadata": {
    "collapsed": true
   },
   "outputs": [],
   "source": [
    "current = vars(test['popul'])"
   ]
  },
  {
   "cell_type": "code",
   "execution_count": 83,
   "metadata": {
    "collapsed": true
   },
   "outputs": [],
   "source": [
    "new = {'blanks': 'not applicable',\n",
    "       'frog': 'Chowder'}"
   ]
  },
  {
   "cell_type": "code",
   "execution_count": 86,
   "metadata": {
    "collapsed": true
   },
   "outputs": [],
   "source": [
    "change_keys = {}\n",
    "for k, v in new.items():\n",
    "    if k in current:\n",
    "        change_keys[k] = (current[k], v)\n",
    "    else:\n",
    "        change_keys[k] = ('add', v)\n",
    "    setattr(test['popul'], k, v)"
   ]
  },
  {
   "cell_type": "code",
   "execution_count": 88,
   "metadata": {},
   "outputs": [
    {
     "data": {
      "text/plain": [
       "'Chowder'"
      ]
     },
     "execution_count": 88,
     "metadata": {},
     "output_type": "execute_result"
    }
   ],
   "source": [
    "test['popul'].frog"
   ]
  },
  {
   "cell_type": "code",
   "execution_count": 89,
   "metadata": {
    "collapsed": true
   },
   "outputs": [],
   "source": [
    "check = test['popul']"
   ]
  },
  {
   "cell_type": "code",
   "execution_count": 90,
   "metadata": {
    "collapsed": true
   },
   "outputs": [],
   "source": [
    "check.cat = 'None'"
   ]
  },
  {
   "cell_type": "code",
   "execution_count": 92,
   "metadata": {},
   "outputs": [
    {
     "data": {
      "text/plain": [
       "'None'"
      ]
     },
     "execution_count": 92,
     "metadata": {},
     "output_type": "execute_result"
    }
   ],
   "source": [
    "check.cat"
   ]
  },
  {
   "cell_type": "code",
   "execution_count": 93,
   "metadata": {},
   "outputs": [
    {
     "data": {
      "text/plain": [
       "'None'"
      ]
     },
     "execution_count": 93,
     "metadata": {},
     "output_type": "execute_result"
    }
   ],
   "source": [
    "test['popul'].cat"
   ]
  },
  {
   "cell_type": "code",
   "execution_count": 95,
   "metadata": {},
   "outputs": [
    {
     "data": {
      "text/plain": [
       "{'blanks': 'not applicable',\n",
       " 'bound_lower': None,\n",
       " 'bound_upper': None,\n",
       " 'cat': 'None',\n",
       " 'clean_name': 'Popul',\n",
       " 'colormap': None,\n",
       " 'derivative_columns': [],\n",
       " 'description': 'Census place population in 1000s',\n",
       " 'dtype': float,\n",
       " 'free_response': False,\n",
       " 'frog': 'Chowder',\n",
       " 'log': [],\n",
       " 'mimarks': False,\n",
       " 'missing': {'missing: not collected',\n",
       "  'missing: not provided',\n",
       "  'missing: restricted',\n",
       "  'not applicable',\n",
       "  'not collected',\n",
       "  'not provided',\n",
       "  'restricted'},\n",
       " 'name': 'popul',\n",
       " 'notes': None,\n",
       " 'ontology': None,\n",
       " 'original_name': None,\n",
       " 'other_properties': {},\n",
       " 'outlier_lower': None,\n",
       " 'outlier_upper': None,\n",
       " 'sig_figs': None,\n",
       " 'source_columns': [],\n",
       " 'type': 'Continous',\n",
       " 'units': 'people'}"
      ]
     },
     "execution_count": 95,
     "metadata": {},
     "output_type": "execute_result"
    }
   ],
   "source": [
    "vars(check)"
   ]
  },
  {
   "cell_type": "code",
   "execution_count": null,
   "metadata": {
    "collapsed": true
   },
   "outputs": [],
   "source": []
  }
 ],
 "metadata": {
  "kernelspec": {
   "display_name": "Python 3",
   "language": "python",
   "name": "python3"
  },
  "language_info": {
   "codemirror_mode": {
    "name": "ipython",
    "version": 3
   },
   "file_extension": ".py",
   "mimetype": "text/x-python",
   "name": "python",
   "nbconvert_exporter": "python",
   "pygments_lexer": "ipython3",
   "version": "3.6.0"
  }
 },
 "nbformat": 4,
 "nbformat_minor": 2
}
