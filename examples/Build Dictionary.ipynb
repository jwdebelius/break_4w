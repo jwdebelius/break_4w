{
 "cells": [
  {
   "cell_type": "code",
   "execution_count": 1,
   "metadata": {},
   "outputs": [],
   "source": [
    "from collections import OrderedDict\n",
    "import datetime\n",
    "\n",
    "import numpy as np\n",
    "import pandas as pd\n",
    "\n",
    "from IPython.display import HTML\n",
    "\n",
    "import statsmodels.api as sm\n",
    "\n",
    "from break4w.categorical import Categorical\n",
    "from break4w.continous import Continous\n",
    "from break4w.question import Question\n",
    "from break4w.bool import Bool\n",
    "from break4w.data_dictionary import DataDictionary"
   ]
  },
  {
   "cell_type": "markdown",
   "metadata": {},
   "source": [
    "I'm going to try to make a data dictionary object using columns from an example data dictionary and study I worked with a while ago. I'm going to start this by assuming we can convert a text documnt to a series of dictionaries to build off of. I'm going to use the data description from the [Statsmodels National Election DataSet](http://www.statsmodels.org/0.6.1/datasets/generated/anes96.html)."
   ]
  },
  {
   "cell_type": "code",
   "execution_count": 2,
   "metadata": {},
   "outputs": [],
   "source": [
    "data_ = pd.DataFrame(sm.datasets.anes96.load().data)"
   ]
  },
  {
   "cell_type": "code",
   "execution_count": 3,
   "metadata": {},
   "outputs": [],
   "source": [
    "columns = [\n",
    "    {\n",
    "        'name': 'popul',\n",
    "        'description': 'Census place population in 1000s',\n",
    "        'dtype': float,\n",
    "        'units': 'people',\n",
    "        'magnitude': 1000,\n",
    "    },\n",
    "    {\n",
    "        'name': 'TVnews',\n",
    "        'description': 'Number of times per week that respondent watches TV news.',\n",
    "        'dtype': int,\n",
    "        'units': 'views per week',\n",
    "        'clean_name': 'TV news',\n",
    "        'limits': [0, None]\n",
    "    },\n",
    "    {\n",
    "        'name': 'PID',\n",
    "        'description': 'Party identification of respondent',\n",
    "        'dtype': int,\n",
    "        'order': [0, 1, 2, 3, 4, 5, 6],\n",
    "        'numeric_mapping': {0: 'Strong Democrat',\n",
    "                            1: 'Weak Democrat', \n",
    "                            2: 'Independent-Democrat', \n",
    "                            3: 'Independent-Indpendent', \n",
    "                            4: 'Independent-Republican', \n",
    "                            5: 'Weak Republican', \n",
    "                            6: 'Strong Republican'}\n",
    "    },\n",
    "    {\n",
    "        'name': 'vote',\n",
    "        'description': 'Individual expected to vote for Bob Dole',\n",
    "        'dtype': bool,\n",
    "    },\n",
    "    ]\n",
    "types = ['continous', 'question', 'categorical']"
   ]
  },
  {
   "cell_type": "code",
   "execution_count": 4,
   "metadata": {},
   "outputs": [],
   "source": [
    "type_lookup = {'continous': Continous,\n",
    "               'categorical': Categorical,\n",
    "               'multiple choice': Categorical,\n",
    "               'ordinal': Categorical,\n",
    "               'bool': Bool,\n",
    "               'boolean': Bool,\n",
    "               'yes/no': Bool,\n",
    "               }"
   ]
  },
  {
   "cell_type": "code",
   "execution_count": 5,
   "metadata": {},
   "outputs": [],
   "source": [
    "proto_dict = OrderedDict()\n",
    "for col_, type_ in zip(*(columns, types)):\n",
    "    question_type = type_lookup.get(type_.lower(), Question)\n",
    "    proto_dict[col_['name']] = question_type(**col_)\n",
    "#         proto_dict[col_['name']] = Continous(**col_)\n",
    "#     elif type_ == 'categorical':\n",
    "#         proto_dict[col_['name']] = Categorical(**col_)\n",
    "#     else:\n",
    "#         proto_dict[col_['name']] = Question(**col_)"
   ]
  },
  {
   "cell_type": "code",
   "execution_count": 6,
   "metadata": {},
   "outputs": [
    {
     "data": {
      "text/plain": [
       "('continous',\n",
       " {'name': 'popul',\n",
       "  'description': 'Census place population in 1000s',\n",
       "  'dtype': float,\n",
       "  'clean_name': 'Popul',\n",
       "  'units': 'people'})"
      ]
     },
     "execution_count": 6,
     "metadata": {},
     "output_type": "execute_result"
    }
   ],
   "source": [
    "proto_dict['popul'].to_dict()"
   ]
  },
  {
   "cell_type": "code",
   "execution_count": 7,
   "metadata": {},
   "outputs": [],
   "source": [
    "type_lookup = {'continous': Continous,\n",
    "               'categorical': Categorical,\n",
    "               'multiple choice': Categorical,\n",
    "               'ordinal': Categorical,\n",
    "               'bool': Bool,\n",
    "               'boolean': Bool,\n",
    "               'yes/no': Bool,\n",
    "               }"
   ]
  },
  {
   "cell_type": "code",
   "execution_count": 8,
   "metadata": {},
   "outputs": [
    {
     "data": {
      "text/plain": [
       "OrderedDict([('popul', <break4w.continous.Continous at 0x11a4376a0>),\n",
       "             ('TVnews', <break4w.question.Question at 0x11a437710>),\n",
       "             ('PID', <break4w.categorical.Categorical at 0x11a437748>)])"
      ]
     },
     "execution_count": 8,
     "metadata": {},
     "output_type": "execute_result"
    }
   ],
   "source": [
    "proto_dict"
   ]
  },
  {
   "cell_type": "code",
   "execution_count": null,
   "metadata": {},
   "outputs": [],
   "source": []
  },
  {
   "cell_type": "code",
   "execution_count": 9,
   "metadata": {},
   "outputs": [],
   "source": [
    "dict_ = DataDictionary(columns, types)"
   ]
  },
  {
   "cell_type": "code",
   "execution_count": 10,
   "metadata": {
    "scrolled": true
   },
   "outputs": [
    {
     "name": "stdout",
     "output_type": "stream",
     "text": [
      "Data Dictionary with 3 columns\n",
      "-----------------------------------------------------------------------------\n",
      "popul (Continous)\n",
      "TVnews (Question)\n",
      "PID (Categorical)\n",
      "-----------------------------------------------------------------------------\n"
     ]
    }
   ],
   "source": [
    "print(dict_)"
   ]
  },
  {
   "cell_type": "code",
   "execution_count": 11,
   "metadata": {},
   "outputs": [],
   "source": [
    "df_ = dict_.to_dataframe()"
   ]
  },
  {
   "cell_type": "code",
   "execution_count": 12,
   "metadata": {},
   "outputs": [
    {
     "data": {
      "text/html": [
       "<div>\n",
       "<style scoped>\n",
       "    .dataframe tbody tr th:only-of-type {\n",
       "        vertical-align: middle;\n",
       "    }\n",
       "\n",
       "    .dataframe tbody tr th {\n",
       "        vertical-align: top;\n",
       "    }\n",
       "\n",
       "    .dataframe thead th {\n",
       "        text-align: right;\n",
       "    }\n",
       "</style>\n",
       "<table border=\"1\" class=\"dataframe\">\n",
       "  <thead>\n",
       "    <tr style=\"text-align: right;\">\n",
       "      <th></th>\n",
       "      <th>description</th>\n",
       "      <th>dtype</th>\n",
       "      <th>type</th>\n",
       "      <th>clean_name</th>\n",
       "      <th>units</th>\n",
       "      <th>limits</th>\n",
       "      <th>numeric_mapping</th>\n",
       "      <th>order</th>\n",
       "    </tr>\n",
       "    <tr>\n",
       "      <th>name</th>\n",
       "      <th></th>\n",
       "      <th></th>\n",
       "      <th></th>\n",
       "      <th></th>\n",
       "      <th></th>\n",
       "      <th></th>\n",
       "      <th></th>\n",
       "      <th></th>\n",
       "    </tr>\n",
       "  </thead>\n",
       "  <tbody>\n",
       "    <tr>\n",
       "      <th>popul</th>\n",
       "      <td>Census place population in 1000s</td>\n",
       "      <td>float</td>\n",
       "      <td>Continous</td>\n",
       "      <td>Popul</td>\n",
       "      <td>people</td>\n",
       "      <td>NaN</td>\n",
       "      <td>NaN</td>\n",
       "      <td>NaN</td>\n",
       "    </tr>\n",
       "    <tr>\n",
       "      <th>TVnews</th>\n",
       "      <td>Number of times per week that respondent watch...</td>\n",
       "      <td>int</td>\n",
       "      <td>Question</td>\n",
       "      <td>TV news</td>\n",
       "      <td>views per week</td>\n",
       "      <td>0 | None</td>\n",
       "      <td>NaN</td>\n",
       "      <td>NaN</td>\n",
       "    </tr>\n",
       "    <tr>\n",
       "      <th>PID</th>\n",
       "      <td>Party identification of respondent</td>\n",
       "      <td>int</td>\n",
       "      <td>Categorical</td>\n",
       "      <td>Pid</td>\n",
       "      <td>NaN</td>\n",
       "      <td>NaN</td>\n",
       "      <td>{0: 'Strong Democrat', 1: 'Weak Democrat', 2: ...</td>\n",
       "      <td>0 | 1 | 2 | 3 | 4 | 5 | 6</td>\n",
       "    </tr>\n",
       "  </tbody>\n",
       "</table>\n",
       "</div>"
      ],
      "text/plain": [
       "                                              description  dtype         type  \\\n",
       "name                                                                            \n",
       "popul                    Census place population in 1000s  float    Continous   \n",
       "TVnews  Number of times per week that respondent watch...    int     Question   \n",
       "PID                    Party identification of respondent    int  Categorical   \n",
       "\n",
       "       clean_name           units    limits  \\\n",
       "name                                          \n",
       "popul       Popul          people       NaN   \n",
       "TVnews    TV news  views per week  0 | None   \n",
       "PID           Pid             NaN       NaN   \n",
       "\n",
       "                                          numeric_mapping  \\\n",
       "name                                                        \n",
       "popul                                                 NaN   \n",
       "TVnews                                                NaN   \n",
       "PID     {0: 'Strong Democrat', 1: 'Weak Democrat', 2: ...   \n",
       "\n",
       "                            order  \n",
       "name                               \n",
       "popul                         NaN  \n",
       "TVnews                        NaN  \n",
       "PID     0 | 1 | 2 | 3 | 4 | 5 | 6  "
      ]
     },
     "execution_count": 12,
     "metadata": {},
     "output_type": "execute_result"
    }
   ],
   "source": [
    "df_"
   ]
  },
  {
   "cell_type": "code",
   "execution_count": null,
   "metadata": {},
   "outputs": [],
   "source": [
    "    "
   ]
  },
  {
   "cell_type": "code",
   "execution_count": null,
   "metadata": {},
   "outputs": [],
   "source": [
    "df_"
   ]
  },
  {
   "cell_type": "code",
   "execution_count": null,
   "metadata": {},
   "outputs": [],
   "source": [
    "test.add_question(columns[0], types[0])\n",
    "test.add_question(Continous(**columns[1]))\n",
    "test.add_question(columns[1], types[1])"
   ]
  },
  {
   "cell_type": "code",
   "execution_count": null,
   "metadata": {},
   "outputs": [],
   "source": [
    "list(test.columns.keys())"
   ]
  },
  {
   "cell_type": "code",
   "execution_count": null,
   "metadata": {},
   "outputs": [],
   "source": [
    "columns = test.columns"
   ]
  },
  {
   "cell_type": "code",
   "execution_count": null,
   "metadata": {},
   "outputs": [],
   "source": [
    "columns"
   ]
  },
  {
   "cell_type": "code",
   "execution_count": null,
   "metadata": {},
   "outputs": [],
   "source": [
    "del columns['popul']"
   ]
  },
  {
   "cell_type": "code",
   "execution_count": null,
   "metadata": {},
   "outputs": [],
   "source": [
    "columns"
   ]
  },
  {
   "cell_type": "code",
   "execution_count": null,
   "metadata": {},
   "outputs": [],
   "source": [
    "test.columns"
   ]
  },
  {
   "cell_type": "code",
   "execution_count": null,
   "metadata": {},
   "outputs": [],
   "source": [
    "test.log"
   ]
  },
  {
   "cell_type": "code",
   "execution_count": null,
   "metadata": {},
   "outputs": [],
   "source": [
    "test.add_question(columns[2], types[2])"
   ]
  },
  {
   "cell_type": "code",
   "execution_count": null,
   "metadata": {},
   "outputs": [],
   "source": [
    "current = vars(test['popul'])"
   ]
  },
  {
   "cell_type": "code",
   "execution_count": null,
   "metadata": {},
   "outputs": [],
   "source": [
    "new = {'blanks': 'not applicable',\n",
    "       'frog': 'Chowder'}"
   ]
  },
  {
   "cell_type": "code",
   "execution_count": null,
   "metadata": {},
   "outputs": [],
   "source": [
    "change_keys = {}\n",
    "for k, v in new.items():\n",
    "    if k in current:\n",
    "        change_keys[k] = (current[k], v)\n",
    "    else:\n",
    "        change_keys[k] = ('add', v)\n",
    "    setattr(test['popul'], k, v)"
   ]
  },
  {
   "cell_type": "code",
   "execution_count": null,
   "metadata": {},
   "outputs": [],
   "source": [
    "test['popul'].frog"
   ]
  },
  {
   "cell_type": "code",
   "execution_count": null,
   "metadata": {},
   "outputs": [],
   "source": [
    "check = test['popul']"
   ]
  },
  {
   "cell_type": "code",
   "execution_count": null,
   "metadata": {},
   "outputs": [],
   "source": [
    "check.cat = 'None'"
   ]
  },
  {
   "cell_type": "code",
   "execution_count": null,
   "metadata": {},
   "outputs": [],
   "source": [
    "check.cat"
   ]
  },
  {
   "cell_type": "code",
   "execution_count": null,
   "metadata": {},
   "outputs": [],
   "source": [
    "test['popul'].cat"
   ]
  },
  {
   "cell_type": "code",
   "execution_count": null,
   "metadata": {},
   "outputs": [],
   "source": [
    "vars(check)"
   ]
  },
  {
   "cell_type": "code",
   "execution_count": null,
   "metadata": {},
   "outputs": [],
   "source": []
  }
 ],
 "metadata": {
  "kernelspec": {
   "display_name": "Python 3",
   "language": "python",
   "name": "python3"
  },
  "language_info": {
   "codemirror_mode": {
    "name": "ipython",
    "version": 3
   },
   "file_extension": ".py",
   "mimetype": "text/x-python",
   "name": "python",
   "nbconvert_exporter": "python",
   "pygments_lexer": "ipython3",
   "version": "3.6.0"
  }
 },
 "nbformat": 4,
 "nbformat_minor": 2
}
